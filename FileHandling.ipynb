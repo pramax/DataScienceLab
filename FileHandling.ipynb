{
 "cells": [
  {
   "cell_type": "code",
   "execution_count": 2,
   "metadata": {},
   "outputs": [
    {
     "data": {
      "text/plain": [
       "['./Data\\\\gurgaon_10k.csv',\n",
       " './Data\\\\hyderabad.csv',\n",
       " './Data\\\\kolkata.csv',\n",
       " './Data\\\\mumbai.csv']"
      ]
     },
     "execution_count": 2,
     "metadata": {},
     "output_type": "execute_result"
    }
   ],
   "source": [
    "# Search for files with name patterns\n",
    "import glob\n",
    "glob.glob(\"./Data/*.csv\")"
   ]
  },
  {
   "cell_type": "code",
   "execution_count": 4,
   "metadata": {},
   "outputs": [
    {
     "data": {
      "text/plain": [
       "['..\\\\main.ipynb',\n",
       " '..\\\\DataScienceLab\\\\FileHandling.ipynb',\n",
       " '..\\\\DataScienceLab\\\\Language.ipynb',\n",
       " '..\\\\DataScienceLab\\\\MumbaiREPrices.ipynb',\n",
       " '..\\\\VSCodeDStutorial\\\\Main.ipynb']"
      ]
     },
     "execution_count": 4,
     "metadata": {},
     "output_type": "execute_result"
    }
   ],
   "source": [
    "# possible to search for files in subdirectories. \n",
    "# To get a listing of all notebook files starting from the parent directory above this one \n",
    "# and all sub-folders below it\n",
    "glob.glob(\"../**/*.ipynb\", recursive=True)"
   ]
  },
  {
   "cell_type": "markdown",
   "metadata": {},
   "source": [
    "##### Context Managers\n",
    "A context manager in Python is an object that defines the methods \\_\\_enter\\_\\_() and \\_\\_exit\\_\\_(), which are used to set up and tear down a temporary context for a block of code. This context is created when entering a with statement and is destroyed upon exiting the block. Uses of context managers are\n",
    "1. They ensure that resources like files, network connections, or database connections are properly opened and closed, preventing resource leaks\n",
    "2. They can be used to execute specific code before and after a block of code, such as setting up a test environment or logging information.\n",
    "3. They can catch exceptions that occur within the with block and perform cleanup or logging tasks, even if an error occurs.\n"
   ]
  },
  {
   "cell_type": "code",
   "execution_count": 8,
   "metadata": {},
   "outputs": [],
   "source": [
    "# to create a file named NewFile.txt with write (w) permission\n",
    "with open(\"Data/NewFile.txt\", \"w\") as nf:\n",
    "    nf.write(\"I am using \")\n",
    "    nf.write(\"Context Manager.\")"
   ]
  },
  {
   "cell_type": "code",
   "execution_count": 9,
   "metadata": {},
   "outputs": [
    {
     "name": "stdout",
     "output_type": "stream",
     "text": [
      "I am using Context Manager.\n"
     ]
    }
   ],
   "source": [
    "# Read from a file\n",
    "with open(\"Data/NewFile.txt\", \"r\") as ef:\n",
    "    content = ef.read()\n",
    "    print(content)"
   ]
  },
  {
   "cell_type": "markdown",
   "metadata": {},
   "source": [
    "#### Saving and Loading Models\n",
    "Joblib is a set of tools to provide lightweight pipelining in Python."
   ]
  },
  {
   "cell_type": "code",
   "execution_count": 18,
   "metadata": {},
   "outputs": [
    {
     "ename": "OSError",
     "evalue": "[Errno 22] Invalid argument: 'trained_model.pkl'",
     "output_type": "error",
     "traceback": [
      "\u001b[1;31m---------------------------------------------------------------------------\u001b[0m",
      "\u001b[1;31mOSError\u001b[0m                                   Traceback (most recent call last)",
      "Cell \u001b[1;32mIn[18], line 12\u001b[0m\n\u001b[0;32m      9\u001b[0m clf\u001b[38;5;241m.\u001b[39mfit(X, y)\n\u001b[0;32m     11\u001b[0m \u001b[38;5;66;03m# Now storing model in a pickle file\u001b[39;00m\n\u001b[1;32m---> 12\u001b[0m dump(clf, \u001b[38;5;124m\"\u001b[39m\u001b[38;5;124mtrained_model.pkl\u001b[39m\u001b[38;5;124m\"\u001b[39m)\n",
      "File \u001b[1;32mc:\\Users\\White House\\anaconda3\\Lib\\site-packages\\joblib\\numpy_pickle.py:552\u001b[0m, in \u001b[0;36mdump\u001b[1;34m(value, filename, compress, protocol, cache_size)\u001b[0m\n\u001b[0;32m    550\u001b[0m         NumpyPickler(f, protocol\u001b[38;5;241m=\u001b[39mprotocol)\u001b[38;5;241m.\u001b[39mdump(value)\n\u001b[0;32m    551\u001b[0m \u001b[38;5;28;01melif\u001b[39;00m is_filename:\n\u001b[1;32m--> 552\u001b[0m     \u001b[38;5;28;01mwith\u001b[39;00m \u001b[38;5;28mopen\u001b[39m(filename, \u001b[38;5;124m'\u001b[39m\u001b[38;5;124mwb\u001b[39m\u001b[38;5;124m'\u001b[39m) \u001b[38;5;28;01mas\u001b[39;00m f:\n\u001b[0;32m    553\u001b[0m         NumpyPickler(f, protocol\u001b[38;5;241m=\u001b[39mprotocol)\u001b[38;5;241m.\u001b[39mdump(value)\n\u001b[0;32m    554\u001b[0m \u001b[38;5;28;01melse\u001b[39;00m:\n",
      "\u001b[1;31mOSError\u001b[0m: [Errno 22] Invalid argument: 'trained_model.pkl'"
     ]
    }
   ],
   "source": [
    "from joblib import dump, load\n",
    "from sklearn import datasets, svm\n",
    "# do note that scikit-learn comes with a few small standard toy datasets like iris.\n",
    "\n",
    "diabetes = datasets.load_diabetes()\n",
    "X, y = diabetes.data, diabetes.target\n",
    "\n",
    "clf = svm.SVC()\n",
    "clf.fit(X, y)\n",
    "\n",
    "# Now storing model in a pickle file\n",
    "dump(clf, \"trained_model.pkl\")"
   ]
  },
  {
   "cell_type": "code",
   "execution_count": 20,
   "metadata": {},
   "outputs": [
    {
     "data": {
      "text/plain": [
       "72.0"
      ]
     },
     "execution_count": 20,
     "metadata": {},
     "output_type": "execute_result"
    }
   ],
   "source": [
    "# Load model from file and make predictions\n",
    "\n",
    "model = load(\"trained_model.pkl\", mmap_mode=\"r\")\n",
    "model.predict(X)[1]"
   ]
  },
  {
   "cell_type": "code",
   "execution_count": 1,
   "metadata": {},
   "outputs": [],
   "source": [
    "# delete a file. Below code throws exception as above code is hooked to the file.\n",
    "import os\n",
    "filePath = \"trained_model.pkl\"\n",
    "try: \n",
    "    os.remove(filePath)\n",
    "except Exception as e:\n",
    "    print(e)"
   ]
  },
  {
   "cell_type": "code",
   "execution_count": null,
   "metadata": {},
   "outputs": [],
   "source": []
  }
 ],
 "metadata": {
  "kernelspec": {
   "display_name": "base",
   "language": "python",
   "name": "python3"
  },
  "language_info": {
   "codemirror_mode": {
    "name": "ipython",
    "version": 3
   },
   "file_extension": ".py",
   "mimetype": "text/x-python",
   "name": "python",
   "nbconvert_exporter": "python",
   "pygments_lexer": "ipython3",
   "version": "3.12.4"
  }
 },
 "nbformat": 4,
 "nbformat_minor": 2
}
