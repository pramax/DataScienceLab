{
 "cells": [
  {
   "cell_type": "code",
   "execution_count": 1,
   "metadata": {},
   "outputs": [
    {
     "data": {
      "text/plain": [
       "3"
      ]
     },
     "execution_count": 1,
     "metadata": {},
     "output_type": "execute_result"
    }
   ],
   "source": [
    "#Modulo Division\n",
    "13 % 5"
   ]
  },
  {
   "cell_type": "code",
   "execution_count": 2,
   "metadata": {},
   "outputs": [
    {
     "data": {
      "text/plain": [
       "16"
      ]
     },
     "execution_count": 2,
     "metadata": {},
     "output_type": "execute_result"
    }
   ],
   "source": [
    "# Exponential\n",
    "4 ** 2"
   ]
  },
  {
   "cell_type": "markdown",
   "metadata": {},
   "source": [
    "#### Primitive Data Types\n",
    "bool : True or False.\n",
    "\n",
    "str : 'Single quotes' or \"Double Quotes\"\n",
    "\n",
    "Numeric data types are int, float, complex (3+6j).\n",
    "Explicit conversion can be done by explicit type-casting : float(), int(), complex(real, imag), str()\n",
    "\n",
    "Binary: bytes, bytearray, memoryview"
   ]
  },
  {
   "cell_type": "code",
   "execution_count": 84,
   "metadata": {},
   "outputs": [
    {
     "data": {
      "text/plain": [
       "(43.3, '0b10101')"
      ]
     },
     "execution_count": 84,
     "metadata": {},
     "output_type": "execute_result"
    }
   ],
   "source": [
    "a = \"21\"\n",
    "b = \"22.3\"\n",
    "int(a)+float(b), bin(int(a)) # bin(), oct(), hex() can be used to convert integers to binary an octadecimal  "
   ]
  },
  {
   "cell_type": "markdown",
   "metadata": {},
   "source": [
    "#### Sequence Data Types\n",
    "\n",
    "A *list* is collection that is ordered and changeable. It's designated using square brackets [], and items can be of different data types: [\"red\", 1, 1.03, 1]. It is collection of data that stores multiple items in a single variable\n",
    "\n",
    "A *tuple* is a collection which is ordered and unchangeable. It's designated using parentheses (): (\"red\", 1, 1.03, 1). Tuples are immutable, which means once defined, you cannot delete, add or edit any values inside it\n",
    "\n",
    "A *set* is a collection which is unordered, unchangeable, and does not permit duplicate items. It's designated using curly brackets {}: {\"red\", 1, 1.03}."
   ]
  },
  {
   "cell_type": "code",
   "execution_count": 75,
   "metadata": {},
   "outputs": [
    {
     "data": {
      "text/plain": [
       "(4, list, complex)"
      ]
     },
     "execution_count": 75,
     "metadata": {},
     "output_type": "execute_result"
    }
   ],
   "source": [
    "alist = [1, 3.14,'circle', 3+4j]\n",
    "atuple = (1, 3.14,'circle', 3+4j)\n",
    "aset = {1, 3.14,'circle', 3+4j}\n",
    "len(alist), type(alist), type(atuple[3]) \n",
    "# you can use the type() function in Python to check the data type of an object\n",
    "# do note that the output f the last line of code is a tuble (comma seperated)!"
   ]
  },
  {
   "cell_type": "code",
   "execution_count": 81,
   "metadata": {},
   "outputs": [
    {
     "data": {
      "text/plain": [
       "((1, 3.14, 'circle', (3+4j)),\n",
       " [1, 3.14, 'circle', (3+4j)],\n",
       " {(3+4j), 1, 3.14, 'circle'})"
      ]
     },
     "execution_count": 81,
     "metadata": {},
     "output_type": "execute_result"
    }
   ],
   "source": [
    "# type conversion is allowed explicitly among lists, tuples\n",
    "tuple(alist), list(atuple), set(alist)"
   ]
  },
  {
   "cell_type": "markdown",
   "metadata": {},
   "source": [
    "#### Mapping Data Type - dict\n",
    "Dictionaries (called *dict* in python) store data in key-value pairs. They're designated using curly brackets {}, like a set, but they have keys and values associated with each other using a colon :. Each pair is separated from the next using a comma ,.\n",
    "DUplicates are not allowed. "
   ]
  },
  {
   "cell_type": "code",
   "execution_count": 70,
   "metadata": {},
   "outputs": [
    {
     "data": {
      "text/plain": [
       "(dict_keys(['Name', 'Surname', 'Country', 'Pincode']),\n",
       " dict_values(['Prajeesh', 'Lakayil', 'India', 400076]),\n",
       " dict_items([('Name', 'Prajeesh'), ('Surname', 'Lakayil'), ('Country', 'India'), ('Pincode', 400076)]),\n",
       " ['Name', 'Surname', 'Country', 'Pincode'])"
      ]
     },
     "execution_count": 70,
     "metadata": {},
     "output_type": "execute_result"
    }
   ],
   "source": [
    "dict1 = {\n",
    "    \"Name\": \"Prajeesh\", \n",
    "    \"Surname\": \"Lakayil\", \n",
    "    \"Country\": \"India\",\n",
    "    \"Pincode\": 400072\n",
    "}\n",
    "dict1[\"Pincode\"] = 400076 \n",
    "listofkeys = list(dict1.keys())\n",
    "dict1.keys(), dict1.values(), dict1.items(), listofkeys\n",
    "# In below output, first 3 are iterable while last one is a list"
   ]
  },
  {
   "cell_type": "markdown",
   "metadata": {},
   "source": [
    "#### Details of Lists\n",
    "You can access any item on the list by referring to the item's index number. First item is in location '0'. Negative index starts from the end of the list with '-1' being the last item.\n"
   ]
  },
  {
   "cell_type": "code",
   "execution_count": 53,
   "metadata": {},
   "outputs": [
    {
     "name": "stdout",
     "output_type": "stream",
     "text": [
      "Accessing items:  1 (3+4j) circle\n",
      "After assigning / changing items [1, 3.14, 4, 5, 3.86, (3+4j)]\n"
     ]
    }
   ],
   "source": [
    "alist = [1, 3.14,'circle', 3+4j]\n",
    "print(\"Accessing items: \", alist[0], alist[-1], alist[-2])\n",
    "alist[2:1] = [4, 5]\n",
    "alist[-2] = 3.86\n",
    "print(\"After assigning / changing items\", alist)"
   ]
  },
  {
   "cell_type": "code",
   "execution_count": 54,
   "metadata": {},
   "outputs": [
    {
     "data": {
      "text/plain": [
       "((30+4j), 7)"
      ]
     },
     "execution_count": 54,
     "metadata": {},
     "output_type": "execute_result"
    }
   ],
   "source": [
    "alist.append(10)\n",
    "sum(alist), len(alist)"
   ]
  },
  {
   "cell_type": "code",
   "execution_count": 67,
   "metadata": {},
   "outputs": [
    {
     "name": "stdout",
     "output_type": "stream",
     "text": [
      "<class 'zip'> <zip object at 0x000001C8178588C0>\n"
     ]
    },
    {
     "data": {
      "text/plain": [
       "[('I', 4), ('Still', 5), ('Know', 6)]"
      ]
     },
     "execution_count": 67,
     "metadata": {},
     "output_type": "execute_result"
    }
   ],
   "source": [
    "list1 = [\"I\", \"Still\", \"Know\"]\n",
    "list2 = [4,5,6]\n",
    "new_list = zip(list1, list2) # This creates a zip object, which is an iterator.\n",
    "print(type(new_list), new_list) # This prints the memory address of the zip object, not the zipped elements.\n",
    "list(new_list) # This generator converts the zip object into a list of tuples, \n",
    "               # where each tuple contains corresponding elements from list1 and list2"
   ]
  },
  {
   "cell_type": "markdown",
   "metadata": {},
   "source": [
    "#### JSON\n",
    "JSON is JavaScript Object Notation. It is a text format for storing and transporting data. \n",
    "JSON format is syntactically similar to the code for creating JavaScript objects. Because of this, a JavaScript program can easily convert JSON data into JavaScript objects. Since the format is text only, JSON data can easily be sent between computers, and used by any programming language.\n",
    "JSON works by creating key-value pairs, where the key is data that can be represented by letters (called a string). JSON values can be strings, numbers, objects, arrays, boolean data, or null. JSON usually comes as a list of dictionaries.\n"
   ]
  },
  {
   "cell_type": "code",
   "execution_count": null,
   "metadata": {},
   "outputs": [],
   "source": [
    "exampleJSONObject = [\n",
    "    {\n",
    "        \"Name\": \"Prajeesh\"\n",
    "        \"Birth\": \"1985\"\n",
    "    },\n",
    "    {\n",
    "        \"Name\": \"Jayaram\"\n",
    "        \"Birth\": \"1958\"\n",
    "    }\n",
    "]"
   ]
  },
  {
   "cell_type": "markdown",
   "metadata": {},
   "source": [
    "#### String\n",
    "Strings are immutable, that is a part of the string cant be changed.  "
   ]
  },
  {
   "cell_type": "code",
   "execution_count": 86,
   "metadata": {},
   "outputs": [
    {
     "data": {
      "text/plain": [
       "130"
      ]
     },
     "execution_count": 86,
     "metadata": {},
     "output_type": "execute_result"
    }
   ],
   "source": [
    "single_quote = 'Single quote allow you to embed \"double\" quotes in your string.'\n",
    "double_quote = \"Double quote allow you to embed 'single' quotes in your string.\"\n",
    "triple_quote = \"\"\"Triple quotes allows to embed \"double quotes\" as well as 'single quotes' in your string. \n",
    "And can also span across multiple lines.\"\"\"\n",
    "len(triple_quote)"
   ]
  },
  {
   "cell_type": "markdown",
   "metadata": {},
   "source": [
    "Slicing is a technique in Python that allow you to specific element or a sub-set of elements from a container object using their index values. \n",
    "\n",
    "Slicing without specifying the stop index means that you capture the characters from the start index upto the very last index in the sentence. Similarly, slicing with the start index missing means that you start from the very first index in the string to the stop index"
   ]
  },
  {
   "cell_type": "code",
   "execution_count": 92,
   "metadata": {},
   "outputs": [
    {
     "name": "stdout",
     "output_type": "stream",
     "text": [
      "Cream or Cream\n",
      "Cream.\n",
      "Ice Cream\n",
      "Ice Cream.\n"
     ]
    }
   ],
   "source": [
    "#Slicing\n",
    "snack = \"Ice Cream.\"\n",
    "print(snack[4:9] + \" or \" + snack[4:-1])\n",
    "\n",
    "# Stop value not provided\n",
    "print(snack[4:]) \n",
    "\n",
    "# Start value not provided (Stop value excluded according to syntax)\n",
    "print(snack[:-1])\n",
    "\n",
    "print(snack[:])"
   ]
  },
  {
   "cell_type": "code",
   "execution_count": 99,
   "metadata": {},
   "outputs": [
    {
     "name": "stdout",
     "output_type": "stream",
     "text": [
      "1234\n"
     ]
    }
   ],
   "source": [
    "# The third number in the slice notation, 2 below, indicates the step size of the slice.\n",
    "number = \"0001020304050\"\n",
    "print(number[3:10:2])"
   ]
  },
  {
   "cell_type": "code",
   "execution_count": 100,
   "metadata": {},
   "outputs": [
    {
     "name": "stdout",
     "output_type": "stream",
     "text": [
      "0504030201000\n"
     ]
    }
   ],
   "source": [
    "# to reverse a string\n",
    "print(number[::-1])"
   ]
  },
  {
   "cell_type": "code",
   "execution_count": 109,
   "metadata": {},
   "outputs": [
    {
     "name": "stdout",
     "output_type": "stream",
     "text": [
      "False True\n"
     ]
    },
    {
     "data": {
      "text/plain": [
       "(4, 2)"
      ]
     },
     "execution_count": 109,
     "metadata": {},
     "output_type": "execute_result"
    }
   ],
   "source": [
    "# in and not in operator can be used in strings\n",
    "print(\"ice\" in snack, \"Ice\" in snack)\n",
    "# we can also use find, that returns the first position this substring appears in the string\n",
    "snack.find(\"Crea\"), snack.count(\"e\")"
   ]
  },
  {
   "cell_type": "code",
   "execution_count": 111,
   "metadata": {},
   "outputs": [
    {
     "data": {
      "text/plain": [
       "['Ice', 'Cream.']"
      ]
     },
     "execution_count": 111,
     "metadata": {},
     "output_type": "execute_result"
    }
   ],
   "source": [
    "snack.split(\" \")"
   ]
  },
  {
   "cell_type": "code",
   "execution_count": 112,
   "metadata": {},
   "outputs": [
    {
     "data": {
      "text/plain": [
       "'3.12.4 | packaged by Anaconda, Inc. | (main, Jun 18 2024, 15:03:56) [MSC v.1929 64 bit (AMD64)]'"
      ]
     },
     "execution_count": 112,
     "metadata": {},
     "output_type": "execute_result"
    }
   ],
   "source": [
    "import sys\n",
    "sys.version"
   ]
  },
  {
   "cell_type": "code",
   "execution_count": null,
   "metadata": {},
   "outputs": [],
   "source": []
  }
 ],
 "metadata": {
  "kernelspec": {
   "display_name": "base",
   "language": "python",
   "name": "python3"
  },
  "language_info": {
   "codemirror_mode": {
    "name": "ipython",
    "version": 3
   },
   "file_extension": ".py",
   "mimetype": "text/x-python",
   "name": "python",
   "nbconvert_exporter": "python",
   "pygments_lexer": "ipython3",
   "version": "3.12.4"
  }
 },
 "nbformat": 4,
 "nbformat_minor": 2
}
