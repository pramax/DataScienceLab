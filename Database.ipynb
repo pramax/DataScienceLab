{
 "cells": [
  {
   "cell_type": "markdown",
   "metadata": {},
   "source": [
    "## MongoDB"
   ]
  },
  {
   "cell_type": "markdown",
   "metadata": {},
   "source": [
    "MongoDB is a document database. It stores data in a type of JSON format called BSON. Here the data that is accessed together is stored together resulting in better access speed. \n",
    "A database server may have multiple databases. Once connected with a DB server we can check the DBs inside the server as follows."
   ]
  },
  {
   "cell_type": "code",
   "execution_count": 62,
   "metadata": {},
   "outputs": [
    {
     "data": {
      "text/plain": [
       "[{'name': 'AirBNB', 'sizeOnDisk': 2539520, 'empty': False},\n",
       " {'name': 'admin', 'sizeOnDisk': 40960, 'empty': False},\n",
       " {'name': 'config', 'sizeOnDisk': 73728, 'empty': False},\n",
       " {'name': 'local', 'sizeOnDisk': 40960, 'empty': False}]"
      ]
     },
     "execution_count": 62,
     "metadata": {},
     "output_type": "execute_result"
    }
   ],
   "source": [
    "from pymongo import MongoClient\n",
    "\n",
    "client = MongoClient(host=\"localhost\", port=27017)\n",
    "\n",
    "(list(client.list_databases()))"
   ]
  },
  {
   "cell_type": "markdown",
   "metadata": {},
   "source": [
    "PrettyPrinter is used to format the output in a better format."
   ]
  },
  {
   "cell_type": "code",
   "execution_count": 63,
   "metadata": {},
   "outputs": [
    {
     "name": "stdout",
     "output_type": "stream",
     "text": [
      "[ {'empty': False, 'name': 'AirBNB', 'sizeOnDisk': 2539520},\n",
      "  {'empty': False, 'name': 'admin', 'sizeOnDisk': 40960},\n",
      "  {'empty': False, 'name': 'config', 'sizeOnDisk': 73728},\n",
      "  {'empty': False, 'name': 'local', 'sizeOnDisk': 40960}]\n"
     ]
    }
   ],
   "source": [
    "from pprint import PrettyPrinter\n",
    "pp = PrettyPrinter(indent=2)\n",
    "pp.pprint(list(client.list_databases()))"
   ]
  },
  {
   "cell_type": "markdown",
   "metadata": {},
   "source": [
    "Each DB may have multiple collections similar to each SQL database having multiple Tables.\n"
   ]
  },
  {
   "cell_type": "code",
   "execution_count": 64,
   "metadata": {},
   "outputs": [
    {
     "data": {
      "text/plain": [
       "['NewJersey']"
      ]
     },
     "execution_count": 64,
     "metadata": {},
     "output_type": "execute_result"
    }
   ],
   "source": [
    "db = client[\"AirBNB\"] # a database is a container for collections\n",
    "db.list_collection_names()"
   ]
  },
  {
   "cell_type": "code",
   "execution_count": 65,
   "metadata": {},
   "outputs": [
    {
     "data": {
      "text/plain": [
       "1726"
      ]
     },
     "execution_count": 65,
     "metadata": {},
     "output_type": "execute_result"
    }
   ],
   "source": [
    "jersey = db[\"NewJersey\"]\n",
    "jersey.count_documents({}) # a container has documents (records)"
   ]
  },
  {
   "cell_type": "markdown",
   "metadata": {},
   "source": [
    "MongoDB is a document database which is often referred to as a non-relational database.  A document in MongoDB is a record, which is a data structure composed of key value pairs similar to the structure of JSON objects. See one record below.\n",
    "\n",
    "Field values may include numbers, strings, booleans, arrays, DateTime or even nested documents.\n",
    "MongoDB stores data in flexible documents. Instead of having multiple tables you can simply keep all of your related data together. This makes reading your data very fast. "
   ]
  },
  {
   "cell_type": "code",
   "execution_count": 66,
   "metadata": {},
   "outputs": [
    {
     "data": {
      "text/plain": [
       "{'_id': ObjectId('66a06e06f285518eb284bc3f'),\n",
       " 'id': 40669,\n",
       " 'listing_url': 'https://www.airbnb.com/rooms/40669',\n",
       " 'scrape_id': 20240624164330,\n",
       " 'last_scraped': datetime.datetime(2024, 6, 26, 0, 0),\n",
       " 'source': 'city scrape',\n",
       " 'name': 'Skyy’s Lounge / Cozy',\n",
       " 'neighborhood_overview': 'The neighborhood is very diverse & friendly shopping/restaurants on Central Avenue absolutely adorable very safe to walk to. The Neighborhood has a beautiful park walking distance ❤️ read a book ride your bike , rollerblade or just simply relax along the resting area ❤️ the park also has a pool / skating rink/ ice hockey very nice, this park is called Pershing Fields NJ',\n",
       " 'picture_url': 'https://a0.muscache.com/pictures/af7e4a45-0118-4e9b-81c2-de396140d1ae.jpg',\n",
       " 'host_id': 175412,\n",
       " 'host_url': 'https://www.airbnb.com/users/show/175412',\n",
       " 'host_name': 'Skyy',\n",
       " 'host_since': datetime.datetime(2010, 7, 20, 0, 0),\n",
       " 'host_location': 'Jersey City, NJ',\n",
       " 'host_about': 'I am the owner of a high end Nail Salon in the area and I work long days.  I was born and raised in the Mid-West so I have old fashion traditions and values. I consider myself to be a socialite; friendly and easy going. My home is my sanctuary, always clean and extremely peaceful. I love to work out at the gym, pamper my dog and spend time with my child Logan ! The Milk room is infant ready , we supply a baby crib up to age three /60lbs. ',\n",
       " 'host_response_time': 'within a day',\n",
       " 'host_response_rate': '100%',\n",
       " 'host_acceptance_rate': '79%',\n",
       " 'host_is_superhost': False,\n",
       " 'host_thumbnail_url': 'https://a0.muscache.com/im/users/175412/profile_pic/1357141469/original.jpg?aki_policy=profile_small',\n",
       " 'host_picture_url': 'https://a0.muscache.com/im/users/175412/profile_pic/1357141469/original.jpg?aki_policy=profile_x_medium',\n",
       " 'host_listings_count': 1,\n",
       " 'host_total_listings_count': 4,\n",
       " 'host_verifications': \"['email', 'phone']\",\n",
       " 'host_has_profile_pic': True,\n",
       " 'host_identity_verified': False,\n",
       " 'neighbourhood': 'Neighborhood highlights',\n",
       " 'neighbourhood_cleansed': 'Ward C (councilmember Richard Boggiano)',\n",
       " 'latitude': 40.73724,\n",
       " 'longitude': -74.0531,\n",
       " 'property_type': 'Private room in condo',\n",
       " 'room_type': 'Private room',\n",
       " 'accommodates': 2,\n",
       " 'bathrooms': 1.0,\n",
       " 'bathrooms_text': '1 shared bath',\n",
       " 'bedrooms': 1,\n",
       " 'beds': 1,\n",
       " 'amenities': ['Oven',\n",
       "  'Ethernet connection',\n",
       "  'Dishes and silverware',\n",
       "  'Hot water',\n",
       "  'Host greets you',\n",
       "  'Coffee maker',\n",
       "  'Game console',\n",
       "  'Dishwasher',\n",
       "  'Pocket wifi',\n",
       "  'Air conditioning',\n",
       "  'Microwave',\n",
       "  'Iron',\n",
       "  'Cooking basics',\n",
       "  'Hair dryer',\n",
       "  'High chair',\n",
       "  'Kitchen',\n",
       "  'Refrigerator',\n",
       "  'Fire extinguisher',\n",
       "  'Stove',\n",
       "  'Free street parking',\n",
       "  'Washer',\n",
       "  'Hangers',\n",
       "  'Gym',\n",
       "  'Shampoo',\n",
       "  'Children’s dinnerware',\n",
       "  'Children’s books and toys',\n",
       "  'TV with standard cable',\n",
       "  'Wifi',\n",
       "  'Carbon monoxide alarm',\n",
       "  'Long term stays allowed',\n",
       "  'Dryer',\n",
       "  'Smoke alarm',\n",
       "  'Indoor fireplace',\n",
       "  'First aid kit',\n",
       "  'Changing table',\n",
       "  'Paid parking on premises',\n",
       "  'Dedicated workspace',\n",
       "  'Single level home',\n",
       "  'Breakfast',\n",
       "  'Luggage dropoff allowed',\n",
       "  'Essentials',\n",
       "  'Heating',\n",
       "  'Crib'],\n",
       " 'price': '$128.00',\n",
       " 'minimum_nights': 5,\n",
       " 'maximum_nights': 365,\n",
       " 'minimum_minimum_nights': 5,\n",
       " 'maximum_minimum_nights': 5,\n",
       " 'minimum_maximum_nights': 365,\n",
       " 'maximum_maximum_nights': 365,\n",
       " 'minimum_nights_avg_ntm': 5.0,\n",
       " 'maximum_nights_avg_ntm': 365.0,\n",
       " 'has_availability': True,\n",
       " 'availability_30': 18,\n",
       " 'availability_60': 48,\n",
       " 'availability_90': 78,\n",
       " 'availability_365': 78,\n",
       " 'calendar_last_scraped': datetime.datetime(2024, 6, 26, 0, 0),\n",
       " 'number_of_reviews': 19,\n",
       " 'number_of_reviews_ltm': 9,\n",
       " 'number_of_reviews_l30d': 1,\n",
       " 'first_review': datetime.datetime(2010, 9, 23, 0, 0),\n",
       " 'last_review': datetime.datetime(2024, 5, 27, 0, 0),\n",
       " 'review_scores_rating': 5.0,\n",
       " 'review_scores_accuracy': 5.0,\n",
       " 'review_scores_cleanliness': 5.0,\n",
       " 'review_scores_checkin': 5.0,\n",
       " 'review_scores_communication': 5.0,\n",
       " 'review_scores_location': 4.94,\n",
       " 'review_scores_value': 4.94,\n",
       " 'instant_bookable': False,\n",
       " 'calculated_host_listings_count': 1,\n",
       " 'calculated_host_listings_count_entire_homes': 0,\n",
       " 'calculated_host_listings_count_private_rooms': 1,\n",
       " 'calculated_host_listings_count_shared_rooms': 0,\n",
       " 'reviews_per_month': 0.11}"
      ]
     },
     "execution_count": 66,
     "metadata": {},
     "output_type": "execute_result"
    }
   ],
   "source": [
    "# Looking at one document\n",
    "result = jersey.find_one()\n",
    "result"
   ]
  },
  {
   "cell_type": "code",
   "execution_count": 67,
   "metadata": {},
   "outputs": [
    {
     "data": {
      "text/plain": [
       "(59,\n",
       " ['Anaheim, CA',\n",
       "  'Bayonne, NJ',\n",
       "  'Boston, MA',\n",
       "  'Buffalo, NY',\n",
       "  'California, United States'])"
      ]
     },
     "execution_count": 67,
     "metadata": {},
     "output_type": "execute_result"
    }
   ],
   "source": [
    "# Hosts are located in how many locations\n",
    "len(jersey.distinct(\"host_location\")), jersey.distinct(\"host_location\")[0:5]"
   ]
  },
  {
   "cell_type": "code",
   "execution_count": 68,
   "metadata": {},
   "outputs": [
    {
     "data": {
      "text/plain": [
       "0.9947856315179606"
      ]
     },
     "execution_count": 68,
     "metadata": {},
     "output_type": "execute_result"
    }
   ],
   "source": [
    "# counting docs with specific conditions, filters\n",
    "jersey.count_documents({\"has_availability\":True})/jersey.count_documents({})"
   ]
  },
  {
   "cell_type": "code",
   "execution_count": 69,
   "metadata": {},
   "outputs": [
    {
     "name": "stdout",
     "output_type": "stream",
     "text": [
      "[ {'_id': 'Teaneck, NJ', 'countOfHosts': 1},\n",
      "  {'_id': 'West New York, NJ', 'countOfHosts': 9},\n",
      "  {'_id': 'United States', 'countOfHosts': 9},\n",
      "  {'_id': 'North Bergen, NJ', 'countOfHosts': 4},\n",
      "  {'_id': 'Los Angeles, CA', 'countOfHosts': 3},\n",
      "  {'_id': 'South Lake Tahoe, CA', 'countOfHosts': 1},\n",
      "  {'_id': 'Keene Valley, NY', 'countOfHosts': 4},\n",
      "  {'_id': 'Chicago, IL', 'countOfHosts': 6},\n",
      "  {'_id': 'San Ramon, CA', 'countOfHosts': 1}]\n"
     ]
    }
   ],
   "source": [
    "# Aggregating data, counting, pivot table\n",
    "result = jersey.aggregate(\n",
    "    # Here's the `$` and the `\"_id\"`\n",
    "    [\n",
    "        {\n",
    "            \"$group\": # we have  to put $ while creating anything new\n",
    "            {\n",
    "                \"_id\": \"$host_location\", # _id is mandatory while grouping\n",
    "                \"countOfHosts\": {\"$count\": {} } \n",
    "            }\n",
    "        }\n",
    "    ]\n",
    ")\n",
    "pp.pprint(list(result)[1:10])"
   ]
  },
  {
   "cell_type": "markdown",
   "metadata": {},
   "source": [
    "Comparison query operators that can be helpful for filtering the data\n",
    "\n",
    "$gt: greater than (>)\n",
    "\n",
    "$lt: less than (<) \n",
    "\n",
    "$gte: greater than equal to (>=) \n",
    "\n",
    "$lte: less than equal to (<= )\n",
    "\n",
    "$eq: Values are equal\n",
    "\n",
    "$ne: Values are not equal\n",
    "\n",
    "$in: Value is matched within an array"
   ]
  },
  {
   "cell_type": "code",
   "execution_count": 70,
   "metadata": {},
   "outputs": [
    {
     "name": "stdout",
     "output_type": "stream",
     "text": [
      "920\n"
     ]
    }
   ],
   "source": [
    "result = jersey.find({\"review_scores_rating\": {\"$gt\": 4.7}})\n",
    "pp.pprint(len(list(result)))"
   ]
  },
  {
   "cell_type": "markdown",
   "metadata": {},
   "source": [
    "Aggregation operations allow you to group, sort, perform calculations, analyze data.\n",
    "\n",
    "Aggregation pipelines can have one or more \"stages\". The order of these stages are important. Each stage acts upon the results of the previous stage.\n",
    "\n",
    "While aggregating $match can be used to filter, $group can be used for grouping, "
   ]
  },
  {
   "cell_type": "code",
   "execution_count": 71,
   "metadata": {},
   "outputs": [
    {
     "name": "stdout",
     "output_type": "stream",
     "text": [
      "[ {'_id': 4.8, 'count': 1},\n",
      "  {'_id': 4.92, 'count': 1},\n",
      "  {'_id': 5.0, 'count': 17},\n",
      "  {'_id': 4.81, 'count': 1},\n",
      "  {'_id': 4.78, 'count': 1},\n",
      "  {'_id': 4.86, 'count': 1},\n",
      "  {'_id': 4.71, 'count': 2},\n",
      "  {'_id': 4.75, 'count': 1}]\n"
     ]
    }
   ],
   "source": [
    "result = jersey.aggregate(\n",
    "    [    # this is like a pipeline\n",
    "        {\"$match\": {\"host_location\": \"Hawthorne, NJ\"}}, # 38 entries here\n",
    "        {\"$match\": {\"review_scores_rating\": {\"$gt\": 4.7}}}, #980 entries here, AND operation getting done\n",
    "        {\"$group\": {\"_id\": \"$review_scores_rating\", \"count\": {\"$count\": {}}}} # 25 documents qualify\n",
    "    ]\n",
    ")\n",
    "\n",
    "pp.pprint(list(result))"
   ]
  },
  {
   "cell_type": "markdown",
   "metadata": {},
   "source": [
    "The following operators can logically compare multiple queries.\n",
    "\n",
    "$and: Returns documents where both queries match\n",
    "\n",
    "$or: Returns documents where either query matches\n",
    "\n",
    "$nor: Returns documents where both queries fail to match\n",
    "\n",
    "$not: Returns documents where the query does not match"
   ]
  },
  {
   "cell_type": "markdown",
   "metadata": {},
   "source": [
    "The following operators assist in evaluating documents.\n",
    "\n",
    "$regex: Allows the use of regular expressions when evaluating field values\n",
    "\n",
    "$text: Performs a text search\n",
    "\n",
    "$where: Uses a JavaScript expression to match documents"
   ]
  }
 ],
 "metadata": {
  "kernelspec": {
   "display_name": "base",
   "language": "python",
   "name": "python3"
  },
  "language_info": {
   "codemirror_mode": {
    "name": "ipython",
    "version": 3
   },
   "file_extension": ".py",
   "mimetype": "text/x-python",
   "name": "python",
   "nbconvert_exporter": "python",
   "pygments_lexer": "ipython3",
   "version": "3.12.4"
  }
 },
 "nbformat": 4,
 "nbformat_minor": 2
}
